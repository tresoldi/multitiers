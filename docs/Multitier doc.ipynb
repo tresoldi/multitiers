{
 "cells": [
  {
   "cell_type": "markdown",
   "metadata": {},
   "source": [
    "# Multitiers"
   ]
  },
  {
   "cell_type": "markdown",
   "metadata": {},
   "source": [
    "Multitiers are a novel way of representing linguistic data for purposes of historical investigation and language comparison, mainly in terms of regular correspondences. They can be conceived as an extension to alignments, incorporating information other than segments or sound classes, in ways that are suitable for directly or easily applying most methods of machine learning currently in vogue, particularly those for white-box results such as decision trees.\n",
    "\n",
    "As mentioned, they initially stem from aligned data. Consider the words \"house\" /haʊs/ in English, \"huis\" /ɦœy̯s/ in Dutch, and \"hus\" /huːs/ in Icelandic, all cognate stemming from a Proto-Germanic \"\\*hūsą\". Their alignment is straightforward, and can be done either manually or with recommended tools such as LingPy:\n",
    "\n",
    "  | Language  | 1 | 2  | 3 | 4 |\n",
    "  |-----------|---|----|---|---|\n",
    "  | English   | h | a  | ʊ | s |\n",
    "  | Dutch     | ɦ | œ  | y | s |\n",
    "  | Icelandic | h | uː | - | s |\n",
    "  \n",
    "The information under the language names can be considered an essential and the most important tier, and to be clearer we should specify what information they carry (the segments). The indexes, on the other hand, constitute another kind of information, a positional tier, in this case counting left-to-right. We can extend this alignment to a more evident multitier system by clearly marking what are segments and adding positional tiers both left-to-right and right-to-left.\n",
    "\n",
    "  | Tier Name |  |   |  |  |\n",
    "  |-----------|---|----|---|---|\n",
    "  | Index              | 1 |  2 | 3 | 4 |\n",
    "  | RIndex             | 4 | 3  | 2 | 1 |\n",
    "  | Segments_English   | h | a  | ʊ | s |\n",
    "  | Segments_Dutch     | ɦ | œ  | y | s |\n",
    "  | Segments_Icelandic | h | uː | - | s |\n",
    "  \n",
    "Each tier is in fact a variable that a given observation (that is, an alignment site in a cognate set) can assume. It is easier to note this if we transpose the table following common conventions of relational databases, also allowing us to give a unique ID to each position (here, \"P\" and a number, to distinguish from the index)\n",
    "\n",
    "  | ID | Index | RIndex | Segment_ENG | Segment_DUT | Segment_ICE |\n",
    "  |----|-------|--------|-------------|-------------|-------------|\n",
    "  | P0 | 1     |  4     |  h          | ɦ           | h           |\n",
    "  | P1 | 2     | 3      | a           | œ           | uː          |\n",
    "  | P2 | 3     | 2      | ʊ           | y           | -           |\n",
    "  | P3 | 4     | 1      | s           | s           | s           |\n",
    "  \n",
    "This allows us to easily expand with more tiers. We can, for example, incorporate information on the sound class of each site, for each language:\n",
    "\n",
    "  | ID | Index | RIndex | Segment_ENG | SC_ENG |Segment_DUT  | SC_DUT | Segment_ICE | SC_ICE |\n",
    "  |----|-------|--------|-------------|--------|-------------|--------|-------------|--------|\n",
    "  | P0 | 1     |  4     |  h          |   H    | ɦ           |  H     | h           |   H    |\n",
    "  | P1 | 2     | 3      | a           |   A    | œ           |  U     | uː          |   U    |\n",
    "  | P2 | 3     | 2      | ʊ           |   U    | y           |   Y    | -           |    -   |\n",
    "  | P3 | 4     | 1      | s           |   S    | s           |  S     | s           |  S     |\n",
    "  \n",
    "This can be extended with essentially any information at hand. For example, we can add for each language an information on the sound class one position before (to the left, L1) and one after (to the right, R1) for each alignment site.\n",
    "  \n"
   ]
  }
 ],
 "metadata": {
  "kernelspec": {
   "display_name": "Python 3",
   "language": "python",
   "name": "python3"
  },
  "language_info": {
   "codemirror_mode": {
    "name": "ipython",
    "version": 3
   },
   "file_extension": ".py",
   "mimetype": "text/x-python",
   "name": "python",
   "nbconvert_exporter": "python",
   "pygments_lexer": "ipython3",
   "version": "3.7.7"
  }
 },
 "nbformat": 4,
 "nbformat_minor": 4
}
