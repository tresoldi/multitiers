{
 "cells": [
  {
   "cell_type": "markdown",
   "metadata": {},
   "source": [
    "# Multitiers"
   ]
  },
  {
   "cell_type": "code",
   "execution_count": 1,
   "metadata": {},
   "outputs": [],
   "source": [
    "from pathlib import Path\n",
    "import os\n",
    "from pprint import pprint\n",
    "\n",
    "import multitiers\n",
    "\n",
    "from IPython.display import display\n",
    "import graphviz"
   ]
  },
  {
   "cell_type": "markdown",
   "metadata": {},
   "source": [
    "Multitiers are a novel way of representing linguistic data for purposes of historical investigation and language comparison, mainly in terms of regular correspondences. They can be conceived as an extension to alignments, incorporating information other than segments or sound classes, in ways that are suitable for directly or easily applying most methods of machine learning currently in vogue, particularly those for white-box results such as decision trees.\n",
    "\n",
    "As mentioned, they initially stem from aligned data. Consider the words \"house\" /haʊs/ in English, \"huis\" /ɦœy̯s/ in Dutch, and \"hus\" /huːs/ in Icelandic, all cognate stemming from a Proto-Germanic \"\\*hūsą\". Their alignment is straightforward, and can be done either manually or with recommended tools such as LingPy:\n",
    "\n",
    "  | Language  | 1 | 2  | 3 | 4 |\n",
    "  |-----------|---|----|---|---|\n",
    "  | English   | h | a  | ʊ | s |\n",
    "  | Dutch     | ɦ | œ  | y | s |\n",
    "  | Icelandic | h | uː | - | s |\n",
    "  \n",
    "The information under the language names can be considered an essential and the most important tier, and to be clearer we should specify what information they carry (the segments). The indexes, on the other hand, constitute another kind of information, a positional tier, in this case counting left-to-right. We can extend this alignment to a more evident multitier system by clearly marking what are segments and adding positional tiers both left-to-right and right-to-left.\n",
    "\n",
    "  | Tier Name |  |   |  |  |\n",
    "  |-----------|---|----|---|---|\n",
    "  | Index              | 1 |  2 | 3 | 4 |\n",
    "  | RIndex             | 4 | 3  | 2 | 1 |\n",
    "  | Segments_English   | h | a  | ʊ | s |\n",
    "  | Segments_Dutch     | ɦ | œ  | y | s |\n",
    "  | Segments_Icelandic | h | uː | - | s |\n",
    "  \n",
    "Each tier is in fact a variable that a given observation (that is, an alignment site in a cognate set) can assume. It is easier to note this if we transpose the table following common conventions of relational databases, also allowing us to give a unique ID to each position (here, \"P\" and a number, to distinguish from the index)\n",
    "\n",
    "  | ID | Index | RIndex | Segment_ENG | Segment_DUT | Segment_ICE |\n",
    "  |----|-------|--------|-------------|-------------|-------------|\n",
    "  | P0 | 1     |  4     |  h          | ɦ           | h           |\n",
    "  | P1 | 2     | 3      | a           | œ           | uː          |\n",
    "  | P2 | 3     | 2      | ʊ           | y           | -           |\n",
    "  | P3 | 4     | 1      | s           | s           | s           |\n",
    "  \n",
    "This allows us to easily expand with more tiers. We can, for example, incorporate information on the sound class of each site, for each language:\n",
    "\n",
    "  | ID | Index | RIndex | Segment_ENG | SC_ENG |Segment_DUT  | SC_DUT | Segment_ICE | SC_ICE |\n",
    "  |----|-------|--------|-------------|--------|-------------|--------|-------------|--------|\n",
    "  | P0 | 1     |  4     |  h          |   H    | ɦ           |  H     | h           |   H    |\n",
    "  | P1 | 2     | 3      | a           |   A    | œ           |  U     | uː          |   U    |\n",
    "  | P2 | 3     | 2      | ʊ           |   U    | y           |   Y    | -           |    -   |\n",
    "  | P3 | 4     | 1      | s           |   S    | s           |  S     | s           |  S     |\n",
    "  \n",
    "This can be extended with essentially any information at hand. For example, we can add for each language an information on the sound class one position before (to the left, L1) for each alignment site. In the table below we do that removing Icelandic, for typesetting reasons.\n",
    "  \n",
    "  | ID | Index | RIndex | Segment_ENG | SC_ENG | SC_ENG_L1 |Segment_DUT  | SC_DUT | SC_DUT_L1 |\n",
    "  |----|-------|--------|-------------|--------|-----------|-------------|--------|-----------|\n",
    "  | P0 | 1     |  4     |  h          |   H    |    ∅      | ɦ           |  H     | ∅ |\n",
    "  | P1 | 2     | 3      | a           |   A    |    H      | œ           |  U     | H |\n",
    "  | P2 | 3     | 2      | ʊ           |   U    |    A      | y           |  Y    | U |\n",
    "  | P3 | 4     | 1      | s           |   S    |    U      | s           |  S     | Y |\n",
    "  \n",
    "The information offered in the tiers can include pretty much anything, despite focusing on sounds and sound classes. While it can technically done by hand, and in fact it is what many people do in their heads when doing historical linguistics, the idea is to use wordlists and employ the tools for assisting the management.\n",
    "\n",
    "## Loading data\n",
    "\n",
    "Different kinds of input can be used, including CLDF datasets, but for development purposes we are starting with simpler wordlists as those used by LingPy. Wordlists are plain textual tabular files which must have (1) an unique ID per entry, (2) a COGID id that allows to group different lexemes, (3) a DOCULECT id (or equivalent) that allows to distiguish the different expressions (=lexemes) of each cogid, (4) an ALIGNMENT information with the expression of the lexeme. For the time being, only one entry is allowed for each DOCULECT/COGID pair, but of course it is not necessary for all to be present.\n",
    "\n",
    "The Germanic dataset in the resources, for example, includes this kind of information:\n",
    "\n",
    "  | ID     | DOCULECT       | PARAMETER | VALUE    | IPA     | TOKENS      | ALIGNMENT        | COGID |\n",
    "  |--------|----------------|-----------|----------|---------|-------------|------------------|-------|\n",
    "  | 1      | Proto-Germanic | \\*wīban   | \\*wīban  | wiːban  | w iː b a n  | w iː b ( a n )   | 538   |\n",
    "  | 2      | German         | \\*wīban   | Weib     | vaip    | v ai p      | v ai b ( - - )   | 538   |\n",
    "  | 3      | English        | \\*wīban   | wife     | ʋaɪf    | ʋ aɪ f      | ʋ aɪ f ( - - )   | 538   |\n",
    "  | 4      | Dutch          | \\*wīban   | wijf     | ʋɛɪf    | ʋ ɛɪ f      | ʋ ɛɪ f ( - - )   | 538   |\n",
    "  | 5      | Proto-Germanic | \\*kurnan  | \\*kurnan | kurnan  | k u r n a n | k u r n ( a n )  | 533   |\n",
    "  | 6      | German         | \\*kurnan  | Korn     | kɔrn    | k ɔ r n     | k ɔ r n ( - - )  | 533   |\n",
    "  | 7      | English        | \\*kurnan  | corn     | kɔːn    | k ɔː n      | k ɔː - n ( - - ) | 533   |\n",
    "  | 8      | Dutch          | \\*kurnan  | koren    | koːrə   | k oː r ə    | k oː r - ( ə - ) | 533   |\n",
    "  | 9      | Proto-Germanic | \\*xaimaz  | \\*xaimaz | xaimaz  | x ai m a z  | x ai m ( a z )   | 532   |\n",
    "\n",
    "We can read the data with the auxiliary function an inspect them:"
   ]
  },
  {
   "cell_type": "code",
   "execution_count": 2,
   "metadata": {},
   "outputs": [
    {
     "name": "stdout",
     "output_type": "stream",
     "text": [
      "[OrderedDict([('ID', '1'),\n",
      "              ('DOCULECT', 'Proto-Germanic'),\n",
      "              ('PARAMETER', '*wīban'),\n",
      "              ('VALUE', '*wīban'),\n",
      "              ('IPA', 'wiːban'),\n",
      "              ('TOKENS', 'w iː b a n'),\n",
      "              ('ALIGNMENT', 'w iː b ( a n )'),\n",
      "              ('COGID', '538'),\n",
      "              ('NOTE', '')]),\n",
      " OrderedDict([('ID', '2'),\n",
      "              ('DOCULECT', 'German'),\n",
      "              ('PARAMETER', '*wīban'),\n",
      "              ('VALUE', 'Weib'),\n",
      "              ('IPA', 'vaip'),\n",
      "              ('TOKENS', 'v ai p'),\n",
      "              ('ALIGNMENT', 'v ai b ( - - )'),\n",
      "              ('COGID', '538'),\n",
      "              ('NOTE', '')])]\n"
     ]
    }
   ],
   "source": [
    "datafile = Path(os.getcwd()).parent / \"resources\" / \"germanic.tsv\"\n",
    "data_germanic = multitiers.read_wordlist_data(datafile, comma=False)\n",
    "pprint(data_germanic[:2])"
   ]
  },
  {
   "cell_type": "markdown",
   "metadata": {},
   "source": [
    "A `MultiTiers` object can be created from such lists of dictionaries, already specifying the sound class model(s) to be used and the left and right context lenghts, if any. If more tiers are needed along the way, they will be added automatically."
   ]
  },
  {
   "cell_type": "code",
   "execution_count": 3,
   "metadata": {},
   "outputs": [
    {
     "name": "stdout",
     "output_type": "stream",
     "text": [
      "<multitiers.multitiers.MultiTiers object at 0x7f0bd5b50250>\n"
     ]
    }
   ],
   "source": [
    "mt_germanic = multitiers.MultiTiers(data_germanic, models=['cv'], left=1, right=1)\n",
    "print(mt_germanic)"
   ]
  },
  {
   "cell_type": "markdown",
   "metadata": {},
   "source": [
    "A correspondence study can be run by listing all the known and unknown tiers, which can be limited in terms of the values they must include and/or exclude. Consider we want a counter of the sound classes (consonant or vowel) of the second sound in Proto-Germanic lexemes when the initial is /s/. We can prepare the following study:"
   ]
  },
  {
   "cell_type": "code",
   "execution_count": 4,
   "metadata": {},
   "outputs": [
    {
     "data": {
      "text/plain": [
       "{(1, 's'): {('C',): 78, ('V',): 31}}"
      ]
     },
     "execution_count": 4,
     "metadata": {},
     "output_type": "execute_result"
    }
   ],
   "source": [
    "known1 = {\n",
    "    'index'                  : {'include': [1]},   # First position in the lexeme...\n",
    "    'segment_Proto-Germanic' : {'include': ['s']}, # ...when PG has /s/\n",
    "}\n",
    "unknown1 = {'cv_Proto-Germanic_R1': {}}\n",
    "\n",
    "result = mt_germanic.correspondence_study(known1, unknown1)\n",
    "result"
   ]
  },
  {
   "cell_type": "markdown",
   "metadata": {},
   "source": [
    "Which shows that, in this dataset, there are 31 cases when the initial Proto-Germanic /s/ is followed by a vowel and 78 cases when it is followed by a consonant. Results are easier to interpret with the `print_study` auxiliary function:"
   ]
  },
  {
   "cell_type": "code",
   "execution_count": 5,
   "metadata": {},
   "outputs": [
    {
     "name": "stdout",
     "output_type": "stream",
     "text": [
      "  index  segment_Proto-Germanic    cv_Proto-Germanic_R1      Count     %  Solved\n",
      "-------  ------------------------  ----------------------  -------  ----  --------\n",
      "      1  s                         C                            78  0.72\n",
      "      1  s                         V                            31  0.28\n"
     ]
    }
   ],
   "source": [
    "multitiers.print_study(result, known1, unknown1)"
   ]
  },
  {
   "cell_type": "markdown",
   "metadata": {},
   "source": [
    "No entry is marked as solved, as no combination of known tiers results in a fully predictable combination of unknown tiers.\n",
    "\n",
    "From the literature we know that, in German, initial Proto-Germanic /s/ developed as /z/ when followed by a vowel and as /ʃ/ otherwise, when regular. Let's confirm this:"
   ]
  },
  {
   "cell_type": "code",
   "execution_count": 6,
   "metadata": {},
   "outputs": [
    {
     "name": "stdout",
     "output_type": "stream",
     "text": [
      "  index  segment_Proto-Germanic    segment_German    cv_Proto-Germanic_R1      Count    %  Solved\n",
      "-------  ------------------------  ----------------  ----------------------  -------  ---  --------\n",
      "      1  s                         z                 V                            30    1  *\n",
      "      1  s                         ʃ                 C                            78    1  *\n"
     ]
    }
   ],
   "source": [
    "known2 = {\n",
    "    'index'                  : {'include': [1]},   # First position in the lexeme...\n",
    "    'segment_Proto-Germanic' : {'include': ['s']}, # ...when PG has /s/...\n",
    "    'segment_German'         : {}\n",
    "}\n",
    "unknown2 = {'cv_Proto-Germanic_R1': {}}\n",
    "\n",
    "multitiers.print_study( mt_germanic.correspondence_study(known2, unknown2), known2, unknown2)"
   ]
  },
  {
   "cell_type": "markdown",
   "metadata": {},
   "source": [
    "Studies can also be provided as a small programming language, parsed with the `parse_study` function. Here, we illustrate this by investigating another dataset, with Latin and Spanish, to check how palatalization might have worked. The study is \"solved\", meaning that we obtain a single set of free tiers for the observed bound tiers: all Latin segments /t/ reflected as Spanish /tʃ/ have a consonant one position to the left and a vowel one position to the right."
   ]
  },
  {
   "cell_type": "code",
   "execution_count": 7,
   "metadata": {},
   "outputs": [
    {
     "name": "stdout",
     "output_type": "stream",
     "text": [
      "segment_Latin    segment_Spanish    cv_Latin_L1    cv_Latin_R1      Count    %  Solved\n",
      "---------------  -----------------  -------------  -------------  -------  ---  --------\n",
      "t                tʃ                 C              V                   41    1  *\n"
     ]
    }
   ],
   "source": [
    "# TODO: initialize multitier object with filename\n",
    "datafile = Path(os.getcwd()).parent / \"resources\" / \"latin2spanish.tsv\"\n",
    "data_spanish = multitiers.read_wordlist_data(datafile, comma=False)\n",
    "mt_spanish = multitiers.MultiTiers(data_spanish, models=['cv'], left=1, right=1)\n",
    "\n",
    "study = \"\"\"\n",
    "KNOWN segment_Latin INCLUDE t\n",
    "KNOWN segment_Spanish INCLUDE tʃ\n",
    "UNKNOWN cv_Latin_L1\n",
    "UNKNOWN cv_Latin_R1\n",
    "\"\"\"\n",
    "known3, unknown3 = multitiers.utils.parse_study(study)\n",
    "multitiers.print_study(mt_spanish.correspondence_study(known3, unknown3), known3, unknown3)"
   ]
  },
  {
   "cell_type": "markdown",
   "metadata": {},
   "source": [
    "## Decision trees\n",
    "\n",
    "One out-of-the-box method for classification offered by the library are decision trees. Let's go back to our Germanic example and check how it can be used:"
   ]
  },
  {
   "cell_type": "code",
   "execution_count": 8,
   "metadata": {},
   "outputs": [
    {
     "data": {
      "image/svg+xml": [
       "<?xml version=\"1.0\" encoding=\"UTF-8\" standalone=\"no\"?>\n",
       "<!DOCTYPE svg PUBLIC \"-//W3C//DTD SVG 1.1//EN\"\n",
       " \"http://www.w3.org/Graphics/SVG/1.1/DTD/svg11.dtd\">\n",
       "<!-- Generated by graphviz version 2.38.0 (20140413.2041)\n",
       " -->\n",
       "<!-- Title: Tree Pages: 1 -->\n",
       "<svg width=\"396pt\" height=\"195pt\"\n",
       " viewBox=\"0.00 0.00 395.50 195.00\" xmlns=\"http://www.w3.org/2000/svg\" xmlns:xlink=\"http://www.w3.org/1999/xlink\">\n",
       "<g id=\"graph0\" class=\"graph\" transform=\"scale(1 1) rotate(0) translate(4 191)\">\n",
       "<title>Tree</title>\n",
       "<polygon fill=\"white\" stroke=\"none\" points=\"-4,4 -4,-191 391.5,-191 391.5,4 -4,4\"/>\n",
       "<!-- 0 -->\n",
       "<g id=\"node1\" class=\"node\"><title>0</title>\n",
       "<path fill=\"#efb185\" stroke=\"black\" d=\"M273.5,-187C273.5,-187 112.5,-187 112.5,-187 106.5,-187 100.5,-181 100.5,-175 100.5,-175 100.5,-116 100.5,-116 100.5,-110 106.5,-104 112.5,-104 112.5,-104 273.5,-104 273.5,-104 279.5,-104 285.5,-110 285.5,-116 285.5,-116 285.5,-175 285.5,-175 285.5,-181 279.5,-187 273.5,-187\"/>\n",
       "<text text-anchor=\"start\" x=\"126.5\" y=\"-171.8\" font-family=\"Helvetica,sans-Serif\" font-size=\"14.00\">segment_German is ʃ</text>\n",
       "<text text-anchor=\"start\" x=\"157.5\" y=\"-156.8\" font-family=\"Helvetica,sans-Serif\" font-size=\"14.00\">gini = 0.401</text>\n",
       "<text text-anchor=\"start\" x=\"148\" y=\"-141.8\" font-family=\"Helvetica,sans-Serif\" font-size=\"14.00\">samples = 108</text>\n",
       "<text text-anchor=\"start\" x=\"125\" y=\"-126.8\" font-family=\"Helvetica,sans-Serif\" font-size=\"14.00\">values = [C=78, V=30]</text>\n",
       "<text text-anchor=\"start\" x=\"108.5\" y=\"-111.8\" font-family=\"Helvetica,sans-Serif\" font-size=\"14.00\">cv_Proto&#45;Germanic_R1 = C</text>\n",
       "</g>\n",
       "<!-- 1 -->\n",
       "<g id=\"node2\" class=\"node\"><title>1</title>\n",
       "<path fill=\"#399de5\" stroke=\"black\" d=\"M172,-68C172,-68 12,-68 12,-68 6,-68 0,-62 0,-56 0,-56 0,-12 0,-12 0,-6 6,-0 12,-0 12,-0 172,-0 172,-0 178,-0 184,-6 184,-12 184,-12 184,-56 184,-56 184,-62 178,-68 172,-68\"/>\n",
       "<text text-anchor=\"start\" x=\"64\" y=\"-52.8\" font-family=\"Helvetica,sans-Serif\" font-size=\"14.00\">gini = 0.0</text>\n",
       "<text text-anchor=\"start\" x=\"51\" y=\"-37.8\" font-family=\"Helvetica,sans-Serif\" font-size=\"14.00\">samples = 30</text>\n",
       "<text text-anchor=\"start\" x=\"44.5\" y=\"-22.8\" font-family=\"Helvetica,sans-Serif\" font-size=\"14.00\">values = [V=30]</text>\n",
       "<text text-anchor=\"start\" x=\"8\" y=\"-7.8\" font-family=\"Helvetica,sans-Serif\" font-size=\"14.00\">cv_Proto&#45;Germanic_R1 = V</text>\n",
       "</g>\n",
       "<!-- 0&#45;&gt;1 -->\n",
       "<g id=\"edge1\" class=\"edge\"><title>0&#45;&gt;1</title>\n",
       "<path fill=\"none\" stroke=\"black\" d=\"M155.391,-103.726C146.979,-94.6054 138.054,-84.93 129.64,-75.8078\"/>\n",
       "<polygon fill=\"black\" stroke=\"black\" points=\"132.067,-73.2772 122.715,-68.2996 126.922,-78.0232 132.067,-73.2772\"/>\n",
       "<text text-anchor=\"middle\" x=\"121.706\" y=\"-89.5792\" font-family=\"Helvetica,sans-Serif\" font-size=\"14.00\">False</text>\n",
       "</g>\n",
       "<!-- 2 -->\n",
       "<g id=\"node3\" class=\"node\"><title>2</title>\n",
       "<path fill=\"#e58139\" stroke=\"black\" d=\"M375.5,-68C375.5,-68 214.5,-68 214.5,-68 208.5,-68 202.5,-62 202.5,-56 202.5,-56 202.5,-12 202.5,-12 202.5,-6 208.5,-0 214.5,-0 214.5,-0 375.5,-0 375.5,-0 381.5,-0 387.5,-6 387.5,-12 387.5,-12 387.5,-56 387.5,-56 387.5,-62 381.5,-68 375.5,-68\"/>\n",
       "<text text-anchor=\"start\" x=\"267\" y=\"-52.8\" font-family=\"Helvetica,sans-Serif\" font-size=\"14.00\">gini = 0.0</text>\n",
       "<text text-anchor=\"start\" x=\"254\" y=\"-37.8\" font-family=\"Helvetica,sans-Serif\" font-size=\"14.00\">samples = 78</text>\n",
       "<text text-anchor=\"start\" x=\"247\" y=\"-22.8\" font-family=\"Helvetica,sans-Serif\" font-size=\"14.00\">values = [C=78]</text>\n",
       "<text text-anchor=\"start\" x=\"210.5\" y=\"-7.8\" font-family=\"Helvetica,sans-Serif\" font-size=\"14.00\">cv_Proto&#45;Germanic_R1 = C</text>\n",
       "</g>\n",
       "<!-- 0&#45;&gt;2 -->\n",
       "<g id=\"edge2\" class=\"edge\"><title>0&#45;&gt;2</title>\n",
       "<path fill=\"none\" stroke=\"black\" d=\"M230.981,-103.726C239.477,-94.6054 248.49,-84.93 256.987,-75.8078\"/>\n",
       "<polygon fill=\"black\" stroke=\"black\" points=\"259.726,-78.0025 263.981,-68.2996 254.604,-73.2312 259.726,-78.0025\"/>\n",
       "<text text-anchor=\"middle\" x=\"264.867\" y=\"-89.5839\" font-family=\"Helvetica,sans-Serif\" font-size=\"14.00\">True</text>\n",
       "</g>\n",
       "</g>\n",
       "</svg>\n"
      ],
      "text/plain": [
       "<graphviz.files.Source at 0x7f0bd4fa4090>"
      ]
     },
     "metadata": {},
     "output_type": "display_data"
    }
   ],
   "source": [
    "clf1 = multitiers.Classifier(data_germanic, models=['cv'], left=1, right=1)\n",
    "clf1.train(known2, unknown2)\n",
    "\n",
    "display(graphviz.Source(clf1.to_dot()))"
   ]
  },
  {
   "cell_type": "markdown",
   "metadata": {},
   "source": [
    "We can build a more complex example where we use SCA sound classes and try to predict a tuple consisting of the German and English reflexes together. Note that, for simplicity and demonstration, we exclude German /r/ reflexes that are found in the data and we limit to a level three decision tree."
   ]
  },
  {
   "cell_type": "code",
   "execution_count": 12,
   "metadata": {},
   "outputs": [
    {
     "data": {
      "image/svg+xml": [
       "<?xml version=\"1.0\" encoding=\"UTF-8\" standalone=\"no\"?>\n",
       "<!DOCTYPE svg PUBLIC \"-//W3C//DTD SVG 1.1//EN\"\n",
       " \"http://www.w3.org/Graphics/SVG/1.1/DTD/svg11.dtd\">\n",
       "<!-- Generated by graphviz version 2.38.0 (20140413.2041)\n",
       " -->\n",
       "<!-- Title: Tree Pages: 1 -->\n",
       "<svg width=\"841pt\" height=\"433pt\"\n",
       " viewBox=\"0.00 0.00 840.50 433.00\" xmlns=\"http://www.w3.org/2000/svg\" xmlns:xlink=\"http://www.w3.org/1999/xlink\">\n",
       "<g id=\"graph0\" class=\"graph\" transform=\"scale(1 1) rotate(0) translate(4 429)\">\n",
       "<title>Tree</title>\n",
       "<polygon fill=\"white\" stroke=\"none\" points=\"-4,4 -4,-429 836.5,-429 836.5,4 -4,4\"/>\n",
       "<!-- 0 -->\n",
       "<g id=\"node1\" class=\"node\"><title>0</title>\n",
       "<path fill=\"#bcf6d4\" stroke=\"black\" d=\"M680,-425C680,-425 438,-425 438,-425 432,-425 426,-419 426,-413 426,-413 426,-354 426,-354 426,-348 432,-342 438,-342 438,-342 680,-342 680,-342 686,-342 692,-348 692,-354 692,-354 692,-413 692,-413 692,-419 686,-425 680,-425\"/>\n",
       "<text text-anchor=\"start\" x=\"470.5\" y=\"-409.8\" font-family=\"Helvetica,sans-Serif\" font-size=\"14.00\">sca_Proto&#45;Germanic_R1 is K</text>\n",
       "<text text-anchor=\"start\" x=\"523.5\" y=\"-394.8\" font-family=\"Helvetica,sans-Serif\" font-size=\"14.00\">gini = 0.599</text>\n",
       "<text text-anchor=\"start\" x=\"518\" y=\"-379.8\" font-family=\"Helvetica,sans-Serif\" font-size=\"14.00\">samples = 75</text>\n",
       "<text text-anchor=\"start\" x=\"462.5\" y=\"-364.8\" font-family=\"Helvetica,sans-Serif\" font-size=\"14.00\">values = [ʃ/s=40, z/s=22, ʃ/ʃ=13]</text>\n",
       "<text text-anchor=\"start\" x=\"434\" y=\"-349.8\" font-family=\"Helvetica,sans-Serif\" font-size=\"14.00\">segment_German/segment_English = ʃ/s</text>\n",
       "</g>\n",
       "<!-- 1 -->\n",
       "<g id=\"node2\" class=\"node\"><title>1</title>\n",
       "<path fill=\"#a6f3c6\" stroke=\"black\" d=\"M539,-306C539,-306 297,-306 297,-306 291,-306 285,-300 285,-294 285,-294 285,-235 285,-235 285,-229 291,-223 297,-223 297,-223 539,-223 539,-223 545,-223 551,-229 551,-235 551,-235 551,-294 551,-294 551,-300 545,-306 539,-306\"/>\n",
       "<text text-anchor=\"start\" x=\"330\" y=\"-290.8\" font-family=\"Helvetica,sans-Serif\" font-size=\"14.00\">sca_Proto&#45;Germanic_R1 is T</text>\n",
       "<text text-anchor=\"start\" x=\"382.5\" y=\"-275.8\" font-family=\"Helvetica,sans-Serif\" font-size=\"14.00\">gini = 0.458</text>\n",
       "<text text-anchor=\"start\" x=\"377\" y=\"-260.8\" font-family=\"Helvetica,sans-Serif\" font-size=\"14.00\">samples = 62</text>\n",
       "<text text-anchor=\"start\" x=\"343.5\" y=\"-245.8\" font-family=\"Helvetica,sans-Serif\" font-size=\"14.00\">values = [ʃ/s=40, z/s=22]</text>\n",
       "<text text-anchor=\"start\" x=\"293\" y=\"-230.8\" font-family=\"Helvetica,sans-Serif\" font-size=\"14.00\">segment_German/segment_English = ʃ/s</text>\n",
       "</g>\n",
       "<!-- 0&#45;&gt;1 -->\n",
       "<g id=\"edge1\" class=\"edge\"><title>0&#45;&gt;1</title>\n",
       "<path fill=\"none\" stroke=\"black\" d=\"M510.081,-341.907C498.707,-332.469 486.503,-322.343 474.821,-312.649\"/>\n",
       "<polygon fill=\"black\" stroke=\"black\" points=\"476.763,-309.713 466.833,-306.021 472.293,-315.1 476.763,-309.713\"/>\n",
       "<text text-anchor=\"middle\" x=\"469.148\" y=\"-327.213\" font-family=\"Helvetica,sans-Serif\" font-size=\"14.00\">False</text>\n",
       "</g>\n",
       "<!-- 6 -->\n",
       "<g id=\"node7\" class=\"node\"><title>6</title>\n",
       "<path fill=\"#8139e5\" stroke=\"black\" d=\"M820.5,-298.5C820.5,-298.5 581.5,-298.5 581.5,-298.5 575.5,-298.5 569.5,-292.5 569.5,-286.5 569.5,-286.5 569.5,-242.5 569.5,-242.5 569.5,-236.5 575.5,-230.5 581.5,-230.5 581.5,-230.5 820.5,-230.5 820.5,-230.5 826.5,-230.5 832.5,-236.5 832.5,-242.5 832.5,-242.5 832.5,-286.5 832.5,-286.5 832.5,-292.5 826.5,-298.5 820.5,-298.5\"/>\n",
       "<text text-anchor=\"start\" x=\"673\" y=\"-283.3\" font-family=\"Helvetica,sans-Serif\" font-size=\"14.00\">gini = 0.0</text>\n",
       "<text text-anchor=\"start\" x=\"660\" y=\"-268.3\" font-family=\"Helvetica,sans-Serif\" font-size=\"14.00\">samples = 13</text>\n",
       "<text text-anchor=\"start\" x=\"651.5\" y=\"-253.3\" font-family=\"Helvetica,sans-Serif\" font-size=\"14.00\">values = [ʃ/ʃ=13]</text>\n",
       "<text text-anchor=\"start\" x=\"577.5\" y=\"-238.3\" font-family=\"Helvetica,sans-Serif\" font-size=\"14.00\">segment_German/segment_English = ʃ/ʃ</text>\n",
       "</g>\n",
       "<!-- 0&#45;&gt;6 -->\n",
       "<g id=\"edge6\" class=\"edge\"><title>0&#45;&gt;6</title>\n",
       "<path fill=\"none\" stroke=\"black\" d=\"M608.266,-341.907C622.73,-329.99 638.525,-316.976 652.914,-305.12\"/>\n",
       "<polygon fill=\"black\" stroke=\"black\" points=\"655.254,-307.727 660.746,-298.667 650.803,-302.325 655.254,-307.727\"/>\n",
       "<text text-anchor=\"middle\" x=\"658.344\" y=\"-319.851\" font-family=\"Helvetica,sans-Serif\" font-size=\"14.00\">True</text>\n",
       "</g>\n",
       "<!-- 2 -->\n",
       "<g id=\"node3\" class=\"node\"><title>2</title>\n",
       "<path fill=\"#ffffff\" stroke=\"black\" d=\"M398,-187C398,-187 154,-187 154,-187 148,-187 142,-181 142,-175 142,-175 142,-116 142,-116 142,-110 148,-104 154,-104 154,-104 398,-104 398,-104 404,-104 410,-110 410,-116 410,-116 410,-175 410,-175 410,-181 404,-187 398,-187\"/>\n",
       "<text text-anchor=\"start\" x=\"187.5\" y=\"-171.8\" font-family=\"Helvetica,sans-Serif\" font-size=\"14.00\">sca_Proto&#45;Germanic_R1 is P</text>\n",
       "<text text-anchor=\"start\" x=\"248\" y=\"-156.8\" font-family=\"Helvetica,sans-Serif\" font-size=\"14.00\">gini = 0.5</text>\n",
       "<text text-anchor=\"start\" x=\"235\" y=\"-141.8\" font-family=\"Helvetica,sans-Serif\" font-size=\"14.00\">samples = 44</text>\n",
       "<text text-anchor=\"start\" x=\"201.5\" y=\"-126.8\" font-family=\"Helvetica,sans-Serif\" font-size=\"14.00\">values = [z/s=22, ʃ/s=22]</text>\n",
       "<text text-anchor=\"start\" x=\"150\" y=\"-111.8\" font-family=\"Helvetica,sans-Serif\" font-size=\"14.00\">segment_German/segment_English = z/s</text>\n",
       "</g>\n",
       "<!-- 1&#45;&gt;2 -->\n",
       "<g id=\"edge2\" class=\"edge\"><title>1&#45;&gt;2</title>\n",
       "<path fill=\"none\" stroke=\"black\" d=\"M368.734,-222.907C357.279,-213.469 344.989,-203.343 333.224,-193.649\"/>\n",
       "<polygon fill=\"black\" stroke=\"black\" points=\"335.123,-190.679 325.179,-187.021 330.671,-196.081 335.123,-190.679\"/>\n",
       "</g>\n",
       "<!-- 5 -->\n",
       "<g id=\"node6\" class=\"node\"><title>5</title>\n",
       "<path fill=\"#39e581\" stroke=\"black\" d=\"M682,-179.5C682,-179.5 440,-179.5 440,-179.5 434,-179.5 428,-173.5 428,-167.5 428,-167.5 428,-123.5 428,-123.5 428,-117.5 434,-111.5 440,-111.5 440,-111.5 682,-111.5 682,-111.5 688,-111.5 694,-117.5 694,-123.5 694,-123.5 694,-167.5 694,-167.5 694,-173.5 688,-179.5 682,-179.5\"/>\n",
       "<text text-anchor=\"start\" x=\"533\" y=\"-164.3\" font-family=\"Helvetica,sans-Serif\" font-size=\"14.00\">gini = 0.0</text>\n",
       "<text text-anchor=\"start\" x=\"520\" y=\"-149.3\" font-family=\"Helvetica,sans-Serif\" font-size=\"14.00\">samples = 18</text>\n",
       "<text text-anchor=\"start\" x=\"510.5\" y=\"-134.3\" font-family=\"Helvetica,sans-Serif\" font-size=\"14.00\">values = [ʃ/s=18]</text>\n",
       "<text text-anchor=\"start\" x=\"436\" y=\"-119.3\" font-family=\"Helvetica,sans-Serif\" font-size=\"14.00\">segment_German/segment_English = ʃ/s</text>\n",
       "</g>\n",
       "<!-- 1&#45;&gt;5 -->\n",
       "<g id=\"edge5\" class=\"edge\"><title>1&#45;&gt;5</title>\n",
       "<path fill=\"none\" stroke=\"black\" d=\"M467.613,-222.907C482.179,-210.99 498.085,-197.976 512.576,-186.12\"/>\n",
       "<polygon fill=\"black\" stroke=\"black\" points=\"514.939,-188.708 520.463,-179.667 510.507,-183.29 514.939,-188.708\"/>\n",
       "</g>\n",
       "<!-- 3 -->\n",
       "<g id=\"node4\" class=\"node\"><title>3</title>\n",
       "<path fill=\"#f3c6a5\" stroke=\"black\" d=\"M256,-68C256,-68 12,-68 12,-68 6,-68 0,-62 0,-56 0,-56 0,-12 0,-12 0,-6 6,-0 12,-0 12,-0 256,-0 256,-0 262,-0 268,-6 268,-12 268,-12 268,-56 268,-56 268,-62 262,-68 256,-68\"/>\n",
       "<text text-anchor=\"start\" x=\"98.5\" y=\"-52.8\" font-family=\"Helvetica,sans-Serif\" font-size=\"14.00\">gini = 0.457</text>\n",
       "<text text-anchor=\"start\" x=\"93\" y=\"-37.8\" font-family=\"Helvetica,sans-Serif\" font-size=\"14.00\">samples = 34</text>\n",
       "<text text-anchor=\"start\" x=\"59.5\" y=\"-22.8\" font-family=\"Helvetica,sans-Serif\" font-size=\"14.00\">values = [z/s=22, ʃ/s=12]</text>\n",
       "<text text-anchor=\"start\" x=\"8\" y=\"-7.8\" font-family=\"Helvetica,sans-Serif\" font-size=\"14.00\">segment_German/segment_English = z/s</text>\n",
       "</g>\n",
       "<!-- 2&#45;&gt;3 -->\n",
       "<g id=\"edge3\" class=\"edge\"><title>2&#45;&gt;3</title>\n",
       "<path fill=\"none\" stroke=\"black\" d=\"M223.124,-103.726C210.705,-94.1494 197.493,-83.9611 185.151,-74.4438\"/>\n",
       "<polygon fill=\"black\" stroke=\"black\" points=\"187.239,-71.6345 177.183,-68.2996 182.965,-77.1778 187.239,-71.6345\"/>\n",
       "</g>\n",
       "<!-- 4 -->\n",
       "<g id=\"node5\" class=\"node\"><title>4</title>\n",
       "<path fill=\"#39e581\" stroke=\"black\" d=\"M540,-68C540,-68 298,-68 298,-68 292,-68 286,-62 286,-56 286,-56 286,-12 286,-12 286,-6 292,-0 298,-0 298,-0 540,-0 540,-0 546,-0 552,-6 552,-12 552,-12 552,-56 552,-56 552,-62 546,-68 540,-68\"/>\n",
       "<text text-anchor=\"start\" x=\"391\" y=\"-52.8\" font-family=\"Helvetica,sans-Serif\" font-size=\"14.00\">gini = 0.0</text>\n",
       "<text text-anchor=\"start\" x=\"378\" y=\"-37.8\" font-family=\"Helvetica,sans-Serif\" font-size=\"14.00\">samples = 10</text>\n",
       "<text text-anchor=\"start\" x=\"368.5\" y=\"-22.8\" font-family=\"Helvetica,sans-Serif\" font-size=\"14.00\">values = [ʃ/s=10]</text>\n",
       "<text text-anchor=\"start\" x=\"294\" y=\"-7.8\" font-family=\"Helvetica,sans-Serif\" font-size=\"14.00\">segment_German/segment_English = ʃ/s</text>\n",
       "</g>\n",
       "<!-- 2&#45;&gt;4 -->\n",
       "<g id=\"edge4\" class=\"edge\"><title>2&#45;&gt;4</title>\n",
       "<path fill=\"none\" stroke=\"black\" d=\"M329.248,-103.726C341.755,-94.1494 355.06,-83.9611 367.489,-74.4438\"/>\n",
       "<polygon fill=\"black\" stroke=\"black\" points=\"369.701,-77.1582 375.513,-68.2996 365.445,-71.6004 369.701,-77.1582\"/>\n",
       "</g>\n",
       "</g>\n",
       "</svg>\n"
      ],
      "text/plain": [
       "<graphviz.files.Source at 0x7f0bd3e45210>"
      ]
     },
     "metadata": {},
     "output_type": "display_data"
    }
   ],
   "source": [
    "clf2 = multitiers.Classifier(data_germanic, models=['sca'], left=1, right=1)\n",
    "\n",
    "study = \"\"\"\n",
    "X_tier index INCLUDE 1\n",
    "X_tier segment_Proto-Germanic INCLUDE s\n",
    "X_tier sca_Proto-Germanic_R1\n",
    "y_tier segment_German EXCLUDE r\n",
    "y_tier segment_English\n",
    "\"\"\"\n",
    "\n",
    "X_tiers2, y_tiers2 = multitiers.utils.parse_study(study)\n",
    "clf2.train(X_tiers2, y_tiers2, max_depth=3)\n",
    "display(graphviz.Source(clf2.to_dot()))"
   ]
  },
  {
   "cell_type": "markdown",
   "metadata": {},
   "source": [
    "We obtain that the most common pair (topmost cell) involves a /ʃ/ reflex in German and a /s/ reflex in English. The first decision found by algorithm is related to the following sound (R1, one position to the right) being of the SCA `K` class (velar sounds in general), for which in all cases both German and English show a /ʃ/ reflex.\n",
    "\n",
    "If the sound to the right is not a velar consonant, the most informative decision is whether it is of class `T` (dental and alveolars in general). If true, it means that in all cases we observe a /ʃ/, /s/ pair. The third most informative decision is whether the following sound is of class `P` (bilabial consonants), in which case the pair is likewise /ʃ/, /s/. Note that the observed reflexes for P a and T are the same, but as expected from decision trees the decision is not able to group them -- either we use different methods, post-process the output, or create a class that involves both P and T.\n",
    "\n",
    "No further decision is taken by the tree, as we limited it to three levels. The tree is not able to fully solve the problem, as we end up (in the left bottom corner) with 34 samples. In all cases the English reflex is /s/, but in 22 cases German shows /z/ and in the remaining 12 it shows /ʃ/. Different tiers might have been able to solve the problem with these constrains, but we demonstrate that, using only the SCA sound class of the second sound for s- initials, we cannot fully solve the English/German pair."
   ]
  },
  {
   "cell_type": "markdown",
   "metadata": {},
   "source": [
    "An interesting possibility of these trees is to study correspondences of non reconstructed languages. In the example below we try to predict Dutch vowels by using only the corresponding alignment sites in German and English. Instead of limiting by tree-depth, we limit by minimm impurity decrease."
   ]
  },
  {
   "cell_type": "code",
   "execution_count": 13,
   "metadata": {},
   "outputs": [
    {
     "data": {
      "image/svg+xml": [
       "<?xml version=\"1.0\" encoding=\"UTF-8\" standalone=\"no\"?>\n",
       "<!DOCTYPE svg PUBLIC \"-//W3C//DTD SVG 1.1//EN\"\n",
       " \"http://www.w3.org/Graphics/SVG/1.1/DTD/svg11.dtd\">\n",
       "<!-- Generated by graphviz version 2.38.0 (20140413.2041)\n",
       " -->\n",
       "<!-- Title: Tree Pages: 1 -->\n",
       "<svg width=\"847pt\" height=\"702pt\"\n",
       " viewBox=\"0.00 0.00 847.00 702.00\" xmlns=\"http://www.w3.org/2000/svg\" xmlns:xlink=\"http://www.w3.org/1999/xlink\">\n",
       "<g id=\"graph0\" class=\"graph\" transform=\"scale(1 1) rotate(0) translate(4 698)\">\n",
       "<title>Tree</title>\n",
       "<polygon fill=\"white\" stroke=\"none\" points=\"-4,4 -4,-698 843,-698 843,4 -4,4\"/>\n",
       "<!-- 0 -->\n",
       "<g id=\"node1\" class=\"node\"><title>0</title>\n",
       "<path fill=\"#e9d6fa\" stroke=\"black\" d=\"M781.5,-694C781.5,-694 517.5,-694 517.5,-694 511.5,-694 505.5,-688 505.5,-682 505.5,-682 505.5,-593 505.5,-593 505.5,-587 511.5,-581 517.5,-581 517.5,-581 781.5,-581 781.5,-581 787.5,-581 793.5,-587 793.5,-593 793.5,-593 793.5,-682 793.5,-682 793.5,-688 787.5,-694 781.5,-694\"/>\n",
       "<text text-anchor=\"start\" x=\"581.5\" y=\"-678.8\" font-family=\"Helvetica,sans-Serif\" font-size=\"14.00\">segment_German is ə</text>\n",
       "<text text-anchor=\"start\" x=\"614\" y=\"-663.8\" font-family=\"Helvetica,sans-Serif\" font-size=\"14.00\">gini = 0.866</text>\n",
       "<text text-anchor=\"start\" x=\"604.5\" y=\"-648.8\" font-family=\"Helvetica,sans-Serif\" font-size=\"14.00\">samples = 496</text>\n",
       "<text text-anchor=\"start\" x=\"513.5\" y=\"-633.8\" font-family=\"Helvetica,sans-Serif\" font-size=\"14.00\">values = [ə=145, ɑ=53, aː=45, eː=43, oː=33, </text>\n",
       "<text text-anchor=\"start\" x=\"544.5\" y=\"-618.8\" font-family=\"Helvetica,sans-Serif\" font-size=\"14.00\"> ɑ=53, aː=45, eː=43, oː=33, ɛ=33, </text>\n",
       "<text text-anchor=\"start\" x=\"548.5\" y=\"-603.8\" font-family=\"Helvetica,sans-Serif\" font-size=\"14.00\"> aː=45, eː=43, oː=33, ɛ=33, ɪ=31]</text>\n",
       "<text text-anchor=\"start\" x=\"590\" y=\"-588.8\" font-family=\"Helvetica,sans-Serif\" font-size=\"14.00\">segment_Dutch = ə</text>\n",
       "</g>\n",
       "<!-- 1 -->\n",
       "<g id=\"node2\" class=\"node\"><title>1</title>\n",
       "<path fill=\"#fafdfe\" stroke=\"black\" d=\"M661.5,-545C661.5,-545 405.5,-545 405.5,-545 399.5,-545 393.5,-539 393.5,-533 393.5,-533 393.5,-444 393.5,-444 393.5,-438 399.5,-432 405.5,-432 405.5,-432 661.5,-432 661.5,-432 667.5,-432 673.5,-438 673.5,-444 673.5,-444 673.5,-533 673.5,-533 673.5,-539 667.5,-545 661.5,-545\"/>\n",
       "<text text-anchor=\"start\" x=\"465.5\" y=\"-529.8\" font-family=\"Helvetica,sans-Serif\" font-size=\"14.00\">segment_German is a</text>\n",
       "<text text-anchor=\"start\" x=\"498\" y=\"-514.8\" font-family=\"Helvetica,sans-Serif\" font-size=\"14.00\">gini = 0.909</text>\n",
       "<text text-anchor=\"start\" x=\"488.5\" y=\"-499.8\" font-family=\"Helvetica,sans-Serif\" font-size=\"14.00\">samples = 362</text>\n",
       "<text text-anchor=\"start\" x=\"401.5\" y=\"-484.8\" font-family=\"Helvetica,sans-Serif\" font-size=\"14.00\">values = [ɑ=53, aː=45, eː=43, oː=33, ɛ=32, </text>\n",
       "<text text-anchor=\"start\" x=\"430.5\" y=\"-469.8\" font-family=\"Helvetica,sans-Serif\" font-size=\"14.00\"> aː=45, eː=43, oː=33, ɛ=32, ɪ=31, </text>\n",
       "<text text-anchor=\"start\" x=\"434.5\" y=\"-454.8\" font-family=\"Helvetica,sans-Serif\" font-size=\"14.00\"> eː=43, oː=33, ɛ=32, ɪ=31, ɔ=29]</text>\n",
       "<text text-anchor=\"start\" x=\"473.5\" y=\"-439.8\" font-family=\"Helvetica,sans-Serif\" font-size=\"14.00\">segment_Dutch = ɑ</text>\n",
       "</g>\n",
       "<!-- 0&#45;&gt;1 -->\n",
       "<g id=\"edge1\" class=\"edge\"><title>0&#45;&gt;1</title>\n",
       "<path fill=\"none\" stroke=\"black\" d=\"M605.645,-580.926C598.5,-571.87 591.049,-562.428 583.764,-553.197\"/>\n",
       "<polygon fill=\"black\" stroke=\"black\" points=\"586.359,-550.835 577.417,-545.153 580.864,-555.171 586.359,-550.835\"/>\n",
       "<text text-anchor=\"middle\" x=\"574.49\" y=\"-566.281\" font-family=\"Helvetica,sans-Serif\" font-size=\"14.00\">False</text>\n",
       "</g>\n",
       "<!-- 8 -->\n",
       "<g id=\"node9\" class=\"node\"><title>8</title>\n",
       "<path fill=\"#963ae5\" stroke=\"black\" d=\"M827,-522.5C827,-522.5 704,-522.5 704,-522.5 698,-522.5 692,-516.5 692,-510.5 692,-510.5 692,-466.5 692,-466.5 692,-460.5 698,-454.5 704,-454.5 704,-454.5 827,-454.5 827,-454.5 833,-454.5 839,-460.5 839,-466.5 839,-466.5 839,-510.5 839,-510.5 839,-516.5 833,-522.5 827,-522.5\"/>\n",
       "<text text-anchor=\"start\" x=\"730\" y=\"-507.3\" font-family=\"Helvetica,sans-Serif\" font-size=\"14.00\">gini = 0.015</text>\n",
       "<text text-anchor=\"start\" x=\"720.5\" y=\"-492.3\" font-family=\"Helvetica,sans-Serif\" font-size=\"14.00\">samples = 134</text>\n",
       "<text text-anchor=\"start\" x=\"700\" y=\"-477.3\" font-family=\"Helvetica,sans-Serif\" font-size=\"14.00\">values = [ə=133, ɛ=1]</text>\n",
       "<text text-anchor=\"start\" x=\"706\" y=\"-462.3\" font-family=\"Helvetica,sans-Serif\" font-size=\"14.00\">segment_Dutch = ə</text>\n",
       "</g>\n",
       "<!-- 0&#45;&gt;8 -->\n",
       "<g id=\"edge8\" class=\"edge\"><title>0&#45;&gt;8</title>\n",
       "<path fill=\"none\" stroke=\"black\" d=\"M693.355,-580.926C706.576,-564.171 720.842,-546.092 733.17,-530.47\"/>\n",
       "<polygon fill=\"black\" stroke=\"black\" points=\"735.977,-532.562 739.424,-522.544 730.482,-528.226 735.977,-532.562\"/>\n",
       "<text text-anchor=\"middle\" x=\"742.351\" y=\"-543.672\" font-family=\"Helvetica,sans-Serif\" font-size=\"14.00\">True</text>\n",
       "</g>\n",
       "<!-- 2 -->\n",
       "<g id=\"node3\" class=\"node\"><title>2</title>\n",
       "<path fill=\"#fefdf9\" stroke=\"black\" d=\"M526,-396C526,-396 273,-396 273,-396 267,-396 261,-390 261,-384 261,-384 261,-295 261,-295 261,-289 267,-283 273,-283 273,-283 526,-283 526,-283 532,-283 538,-289 538,-295 538,-295 538,-384 538,-384 538,-390 532,-396 526,-396\"/>\n",
       "<text text-anchor=\"start\" x=\"329.5\" y=\"-380.8\" font-family=\"Helvetica,sans-Serif\" font-size=\"14.00\">segment_German is aː</text>\n",
       "<text text-anchor=\"start\" x=\"364\" y=\"-365.8\" font-family=\"Helvetica,sans-Serif\" font-size=\"14.00\">gini = 0.911</text>\n",
       "<text text-anchor=\"start\" x=\"354.5\" y=\"-350.8\" font-family=\"Helvetica,sans-Serif\" font-size=\"14.00\">samples = 304</text>\n",
       "<text text-anchor=\"start\" x=\"269\" y=\"-335.8\" font-family=\"Helvetica,sans-Serif\" font-size=\"14.00\">values = [eː=43, aː=35, oː=33, ɪ=31, ɛ=30, </text>\n",
       "<text text-anchor=\"start\" x=\"298.5\" y=\"-320.8\" font-family=\"Helvetica,sans-Serif\" font-size=\"14.00\"> aː=35, oː=33, ɪ=31, ɛ=30, ɔ=29, </text>\n",
       "<text text-anchor=\"start\" x=\"300.5\" y=\"-305.8\" font-family=\"Helvetica,sans-Serif\" font-size=\"14.00\"> oː=33, ɪ=31, ɛ=30, ɔ=29, ɛɪ=19]</text>\n",
       "<text text-anchor=\"start\" x=\"337.5\" y=\"-290.8\" font-family=\"Helvetica,sans-Serif\" font-size=\"14.00\">segment_Dutch = eː</text>\n",
       "</g>\n",
       "<!-- 1&#45;&gt;2 -->\n",
       "<g id=\"edge2\" class=\"edge\"><title>1&#45;&gt;2</title>\n",
       "<path fill=\"none\" stroke=\"black\" d=\"M482.84,-431.926C474.419,-422.687 465.631,-413.047 457.054,-403.637\"/>\n",
       "<polygon fill=\"black\" stroke=\"black\" points=\"459.555,-401.185 450.231,-396.153 454.381,-405.901 459.555,-401.185\"/>\n",
       "</g>\n",
       "<!-- 7 -->\n",
       "<g id=\"node8\" class=\"node\"><title>7</title>\n",
       "<path fill=\"#7fc0ee\" stroke=\"black\" d=\"M766.5,-373.5C766.5,-373.5 568.5,-373.5 568.5,-373.5 562.5,-373.5 556.5,-367.5 556.5,-361.5 556.5,-361.5 556.5,-317.5 556.5,-317.5 556.5,-311.5 562.5,-305.5 568.5,-305.5 568.5,-305.5 766.5,-305.5 766.5,-305.5 772.5,-305.5 778.5,-311.5 778.5,-317.5 778.5,-317.5 778.5,-361.5 778.5,-361.5 778.5,-367.5 772.5,-373.5 766.5,-373.5\"/>\n",
       "<text text-anchor=\"start\" x=\"632\" y=\"-358.3\" font-family=\"Helvetica,sans-Serif\" font-size=\"14.00\">gini = 0.462</text>\n",
       "<text text-anchor=\"start\" x=\"626.5\" y=\"-343.3\" font-family=\"Helvetica,sans-Serif\" font-size=\"14.00\">samples = 58</text>\n",
       "<text text-anchor=\"start\" x=\"564.5\" y=\"-328.3\" font-family=\"Helvetica,sans-Serif\" font-size=\"14.00\">values = [ɑ=41, aː=10, ɑu=5, ɛ=2]</text>\n",
       "<text text-anchor=\"start\" x=\"607.5\" y=\"-313.3\" font-family=\"Helvetica,sans-Serif\" font-size=\"14.00\">segment_Dutch = ɑ</text>\n",
       "</g>\n",
       "<!-- 1&#45;&gt;7 -->\n",
       "<g id=\"edge7\" class=\"edge\"><title>1&#45;&gt;7</title>\n",
       "<path fill=\"none\" stroke=\"black\" d=\"M584.16,-431.926C599.573,-415.017 616.215,-396.76 630.545,-381.04\"/>\n",
       "<polygon fill=\"black\" stroke=\"black\" points=\"633.228,-383.292 637.378,-373.544 628.055,-378.577 633.228,-383.292\"/>\n",
       "</g>\n",
       "<!-- 3 -->\n",
       "<g id=\"node4\" class=\"node\"><title>3</title>\n",
       "<path fill=\"#fefcf7\" stroke=\"black\" d=\"M393.5,-247C393.5,-247 145.5,-247 145.5,-247 139.5,-247 133.5,-241 133.5,-235 133.5,-235 133.5,-146 133.5,-146 133.5,-140 139.5,-134 145.5,-134 145.5,-134 393.5,-134 393.5,-134 399.5,-134 405.5,-140 405.5,-146 405.5,-146 405.5,-235 405.5,-235 405.5,-241 399.5,-247 393.5,-247\"/>\n",
       "<text text-anchor=\"start\" x=\"203\" y=\"-231.8\" font-family=\"Helvetica,sans-Serif\" font-size=\"14.00\">segment_German is ɪ</text>\n",
       "<text text-anchor=\"start\" x=\"234\" y=\"-216.8\" font-family=\"Helvetica,sans-Serif\" font-size=\"14.00\">gini = 0.904</text>\n",
       "<text text-anchor=\"start\" x=\"224.5\" y=\"-201.8\" font-family=\"Helvetica,sans-Serif\" font-size=\"14.00\">samples = 266</text>\n",
       "<text text-anchor=\"start\" x=\"141.5\" y=\"-186.8\" font-family=\"Helvetica,sans-Serif\" font-size=\"14.00\">values = [eː=43, oː=33, ɪ=31, ɔ=29, ɛ=28, </text>\n",
       "<text text-anchor=\"start\" x=\"168.5\" y=\"-171.8\" font-family=\"Helvetica,sans-Serif\" font-size=\"14.00\"> oː=33, ɪ=31, ɔ=29, ɛ=28, ɛɪ=19, </text>\n",
       "<text text-anchor=\"start\" x=\"170\" y=\"-156.8\" font-family=\"Helvetica,sans-Serif\" font-size=\"14.00\"> ɪ=31, ɔ=29, ɛ=28, ɛɪ=19, uː=18]</text>\n",
       "<text text-anchor=\"start\" x=\"207.5\" y=\"-141.8\" font-family=\"Helvetica,sans-Serif\" font-size=\"14.00\">segment_Dutch = eː</text>\n",
       "</g>\n",
       "<!-- 2&#45;&gt;3 -->\n",
       "<g id=\"edge3\" class=\"edge\"><title>2&#45;&gt;3</title>\n",
       "<path fill=\"none\" stroke=\"black\" d=\"M350.353,-282.926C342.264,-273.779 333.826,-264.238 325.583,-254.917\"/>\n",
       "<polygon fill=\"black\" stroke=\"black\" points=\"327.963,-252.325 318.717,-247.153 322.72,-256.963 327.963,-252.325\"/>\n",
       "</g>\n",
       "<!-- 6 -->\n",
       "<g id=\"node7\" class=\"node\"><title>6</title>\n",
       "<path fill=\"#eca471\" stroke=\"black\" d=\"M623.5,-224.5C623.5,-224.5 435.5,-224.5 435.5,-224.5 429.5,-224.5 423.5,-218.5 423.5,-212.5 423.5,-212.5 423.5,-168.5 423.5,-168.5 423.5,-162.5 429.5,-156.5 435.5,-156.5 435.5,-156.5 623.5,-156.5 623.5,-156.5 629.5,-156.5 635.5,-162.5 635.5,-168.5 635.5,-168.5 635.5,-212.5 635.5,-212.5 635.5,-218.5 629.5,-224.5 623.5,-224.5\"/>\n",
       "<text text-anchor=\"start\" x=\"494\" y=\"-209.3\" font-family=\"Helvetica,sans-Serif\" font-size=\"14.00\">gini = 0.389</text>\n",
       "<text text-anchor=\"start\" x=\"488.5\" y=\"-194.3\" font-family=\"Helvetica,sans-Serif\" font-size=\"14.00\">samples = 38</text>\n",
       "<text text-anchor=\"start\" x=\"431.5\" y=\"-179.3\" font-family=\"Helvetica,sans-Serif\" font-size=\"14.00\">values = [aː=29, ɑ=6, ɛ=2, øː=1]</text>\n",
       "<text text-anchor=\"start\" x=\"467.5\" y=\"-164.3\" font-family=\"Helvetica,sans-Serif\" font-size=\"14.00\">segment_Dutch = aː</text>\n",
       "</g>\n",
       "<!-- 2&#45;&gt;6 -->\n",
       "<g id=\"edge6\" class=\"edge\"><title>2&#45;&gt;6</title>\n",
       "<path fill=\"none\" stroke=\"black\" d=\"M448.647,-282.926C463.601,-266.017 479.746,-247.76 493.648,-232.04\"/>\n",
       "<polygon fill=\"black\" stroke=\"black\" points=\"496.275,-234.354 500.277,-224.544 491.031,-229.716 496.275,-234.354\"/>\n",
       "</g>\n",
       "<!-- 4 -->\n",
       "<g id=\"node5\" class=\"node\"><title>4</title>\n",
       "<path fill=\"#fefdf8\" stroke=\"black\" d=\"M267,-98C267,-98 12,-98 12,-98 6,-98 0,-92 0,-86 0,-86 0,-12 0,-12 0,-6 6,-0 12,-0 12,-0 267,-0 267,-0 273,-0 279,-6 279,-12 279,-12 279,-86 279,-86 279,-92 273,-98 267,-98\"/>\n",
       "<text text-anchor=\"start\" x=\"104\" y=\"-82.8\" font-family=\"Helvetica,sans-Serif\" font-size=\"14.00\">gini = 0.899</text>\n",
       "<text text-anchor=\"start\" x=\"94.5\" y=\"-67.8\" font-family=\"Helvetica,sans-Serif\" font-size=\"14.00\">samples = 232</text>\n",
       "<text text-anchor=\"start\" x=\"8\" y=\"-52.8\" font-family=\"Helvetica,sans-Serif\" font-size=\"14.00\">values = [eː=40, oː=33, ɔ=29, ɛ=25, ɛɪ=19, </text>\n",
       "<text text-anchor=\"start\" x=\"35.5\" y=\"-37.8\" font-family=\"Helvetica,sans-Serif\" font-size=\"14.00\"> oː=33, ɔ=29, ɛ=25, ɛɪ=19, uː=18, </text>\n",
       "<text text-anchor=\"start\" x=\"39\" y=\"-22.8\" font-family=\"Helvetica,sans-Serif\" font-size=\"14.00\"> ɔ=29, ɛ=25, ɛɪ=19, uː=18, iː=14]</text>\n",
       "<text text-anchor=\"start\" x=\"77.5\" y=\"-7.8\" font-family=\"Helvetica,sans-Serif\" font-size=\"14.00\">segment_Dutch = eː</text>\n",
       "</g>\n",
       "<!-- 3&#45;&gt;4 -->\n",
       "<g id=\"edge4\" class=\"edge\"><title>3&#45;&gt;4</title>\n",
       "<path fill=\"none\" stroke=\"black\" d=\"M217.747,-133.965C209.031,-124.612 199.984,-114.903 191.267,-105.55\"/>\n",
       "<polygon fill=\"black\" stroke=\"black\" points=\"193.739,-103.069 184.361,-98.1392 188.618,-107.841 193.739,-103.069\"/>\n",
       "</g>\n",
       "<!-- 5 -->\n",
       "<g id=\"node6\" class=\"node\"><title>5</title>\n",
       "<path fill=\"#eb6692\" stroke=\"black\" d=\"M490,-83C490,-83 309,-83 309,-83 303,-83 297,-77 297,-71 297,-71 297,-27 297,-27 297,-21 303,-15 309,-15 309,-15 490,-15 490,-15 496,-15 502,-21 502,-27 502,-27 502,-71 502,-71 502,-77 496,-83 490,-83\"/>\n",
       "<text text-anchor=\"start\" x=\"364\" y=\"-67.8\" font-family=\"Helvetica,sans-Serif\" font-size=\"14.00\">gini = 0.353</text>\n",
       "<text text-anchor=\"start\" x=\"358.5\" y=\"-52.8\" font-family=\"Helvetica,sans-Serif\" font-size=\"14.00\">samples = 34</text>\n",
       "<text text-anchor=\"start\" x=\"305\" y=\"-37.8\" font-family=\"Helvetica,sans-Serif\" font-size=\"14.00\">values = [ɪ=27, eː=3, ɛ=3, ʉ=1]</text>\n",
       "<text text-anchor=\"start\" x=\"341\" y=\"-22.8\" font-family=\"Helvetica,sans-Serif\" font-size=\"14.00\">segment_Dutch = ɪ</text>\n",
       "</g>\n",
       "<!-- 3&#45;&gt;5 -->\n",
       "<g id=\"edge5\" class=\"edge\"><title>3&#45;&gt;5</title>\n",
       "<path fill=\"none\" stroke=\"black\" d=\"M321.253,-133.965C334.755,-119.477 349.053,-104.133 361.682,-90.5819\"/>\n",
       "<polygon fill=\"black\" stroke=\"black\" points=\"364.253,-92.9565 368.51,-83.2545 359.132,-88.1841 364.253,-92.9565\"/>\n",
       "</g>\n",
       "</g>\n",
       "</svg>\n"
      ],
      "text/plain": [
       "<graphviz.files.Source at 0x7f0bd3e45510>"
      ]
     },
     "metadata": {},
     "output_type": "display_data"
    }
   ],
   "source": [
    "clf3 = multitiers.Classifier(data_germanic, models=['cv'])\n",
    "study3 = \"\"\"\n",
    "X_tier segment_German\n",
    "X_tier segment_English\n",
    "X_tier cv_Dutch INCLUDE V\n",
    "y_tier segment_Dutch\n",
    "\"\"\"\n",
    "X_tiers3, y_tiers3 = multitiers.utils.parse_study(study3)\n",
    "clf3.train(X_tiers3, y_tiers3, min_impurity_decrease=0.03333)\n",
    "display(graphviz.Source(clf3.to_dot()))"
   ]
  },
  {
   "cell_type": "markdown",
   "metadata": {},
   "source": [
    "We first note that only German tiers were picked, indicating that its tiers have more power of prediction than those of English for this small study. The correspondences are rather clear: German /ə/ always predicts a corresponding Dutch /ə/, German /a/ always predicts a Dutch /ɑ/, German /aː/ always predicts a Dutch /aː/, and German /eː/ always predicts a Dutch /ɪ/. The problem is however far from solved, with 232 samples left and a high 0.899). The fact that no more decision could be collected due to the limit we set indicates that the tiers we are using are in general insufficient for the prediction task: that is, that using *exclusively* the German and English vowel it impossible to predict most of the Dutch ones.\n",
    "\n",
    "We can make a more advanced experiment by trying to predict Dutch consonantal segments by using the corresponding German and English ones and the sound classes to the left or right. We limit our tree to a 15-level depth."
   ]
  },
  {
   "cell_type": "code",
   "execution_count": 15,
   "metadata": {},
   "outputs": [],
   "source": [
    "clf4 = multitiers.Classifier(data_germanic, models=['cv', 'sca'], left=1, right=1)\n",
    "study4 = \"\"\"\n",
    "X_tier segment_German\n",
    "X_tier segment_English\n",
    "X_tier sca_German\n",
    "X_tier sca_German_L1\n",
    "X_tier sca_German_R1\n",
    "X_tier sca_English\n",
    "X_tier sca_English_L1\n",
    "X_tier sca_English_R1\n",
    "X_tier cv_Dutch INCLUDE C\n",
    "y_tier segment_Dutch\n",
    "\"\"\"\n",
    "X_tiers4, y_tiers4 = multitiers.utils.parse_study(study4)\n",
    "clf4.train(X_tiers4, y_tiers4, max_depth=15)"
   ]
  },
  {
   "cell_type": "markdown",
   "metadata": {},
   "source": [
    "Visualizing this tree will not be very helpful, but we check how well it is performing in terms of predictions. Note that we are running on the same dataset we trained it, which makes sense in this case. There is a `show_pred()` method, but here we get the full prediction, including the probability for each one."
   ]
  },
  {
   "cell_type": "code",
   "execution_count": 19,
   "metadata": {},
   "outputs": [
    {
     "name": "stdout",
     "output_type": "stream",
     "text": [
      "\n",
      "#0: v/(v|0.973,f|0.027)\n",
      "#1: r/(r|1.000)\n",
      "#2: s/(s|1.000)\n",
      "#3: p/(p|1.000)\n",
      "#4: r/(r|1.000)\n",
      "#5: l/(l|1.000)\n",
      "#6: x/(x|0.519,ɣ|0.160,ʋ|0.086)\n",
      "#7: h/(h|1.000)\n",
      "#8: n/(n|1.000)\n",
      "#9: ŋ/(x|0.519,ɣ|0.160,ʋ|0.086)\n",
      "#10: b/(b|1.000)\n"
     ]
    }
   ],
   "source": [
    "clf4.show_pred_prob(max_lines=10)"
   ]
  },
  {
   "cell_type": "markdown",
   "metadata": {},
   "source": [
    "In only one case, #9, this method failed the prediction and in a bad way, as the observed state is not even among the top-three choices. In a number of cases, the observed state was predicted with full certainty.\n",
    "\n",
    "The library also offers methods for feature extraction. Let's consider the Latin Spanish example above, but also with feature extraction."
   ]
  },
  {
   "cell_type": "code",
   "execution_count": 20,
   "metadata": {},
   "outputs": [
    {
     "data": {
      "image/svg+xml": [
       "<?xml version=\"1.0\" encoding=\"UTF-8\" standalone=\"no\"?>\n",
       "<!DOCTYPE svg PUBLIC \"-//W3C//DTD SVG 1.1//EN\"\n",
       " \"http://www.w3.org/Graphics/SVG/1.1/DTD/svg11.dtd\">\n",
       "<!-- Generated by graphviz version 2.38.0 (20140413.2041)\n",
       " -->\n",
       "<!-- Title: Tree Pages: 1 -->\n",
       "<svg width=\"1014pt\" height=\"671pt\"\n",
       " viewBox=\"0.00 0.00 1013.50 671.00\" xmlns=\"http://www.w3.org/2000/svg\" xmlns:xlink=\"http://www.w3.org/1999/xlink\">\n",
       "<g id=\"graph0\" class=\"graph\" transform=\"scale(1 1) rotate(0) translate(4 667)\">\n",
       "<title>Tree</title>\n",
       "<polygon fill=\"white\" stroke=\"none\" points=\"-4,4 -4,-667 1009.5,-667 1009.5,4 -4,4\"/>\n",
       "<!-- 0 -->\n",
       "<g id=\"node1\" class=\"node\"><title>0</title>\n",
       "<path fill=\"#bdf6c4\" stroke=\"black\" d=\"M871,-663C871,-663 623,-663 623,-663 617,-663 611,-657 611,-651 611,-651 611,-592 611,-592 611,-586 617,-580 623,-580 623,-580 871,-580 871,-580 877,-580 883,-586 883,-592 883,-592 883,-651 883,-651 883,-657 877,-663 871,-663\"/>\n",
       "<text text-anchor=\"start\" x=\"693.5\" y=\"-647.8\" font-family=\"Helvetica,sans-Serif\" font-size=\"14.00\">sca_Latin_L1 is A</text>\n",
       "<text text-anchor=\"start\" x=\"711.5\" y=\"-632.8\" font-family=\"Helvetica,sans-Serif\" font-size=\"14.00\">gini = 0.618</text>\n",
       "<text text-anchor=\"start\" x=\"702\" y=\"-617.8\" font-family=\"Helvetica,sans-Serif\" font-size=\"14.00\">samples = 701</text>\n",
       "<text text-anchor=\"start\" x=\"619\" y=\"-602.8\" font-family=\"Helvetica,sans-Serif\" font-size=\"14.00\">values = [t=373, ð=210, θ=46, tʃ=41, &#45;=20]</text>\n",
       "<text text-anchor=\"start\" x=\"682.5\" y=\"-587.8\" font-family=\"Helvetica,sans-Serif\" font-size=\"14.00\">segment_Spanish = t</text>\n",
       "</g>\n",
       "<!-- 1 -->\n",
       "<g id=\"node2\" class=\"node\"><title>1</title>\n",
       "<path fill=\"#91f09c\" stroke=\"black\" d=\"M734,-544C734,-544 486,-544 486,-544 480,-544 474,-538 474,-532 474,-532 474,-473 474,-473 474,-467 480,-461 486,-461 486,-461 734,-461 734,-461 740,-461 746,-467 746,-473 746,-473 746,-532 746,-532 746,-538 740,-544 734,-544\"/>\n",
       "<text text-anchor=\"start\" x=\"556.5\" y=\"-528.8\" font-family=\"Helvetica,sans-Serif\" font-size=\"14.00\">sca_Latin_L1 is K</text>\n",
       "<text text-anchor=\"start\" x=\"574.5\" y=\"-513.8\" font-family=\"Helvetica,sans-Serif\" font-size=\"14.00\">gini = 0.551</text>\n",
       "<text text-anchor=\"start\" x=\"565\" y=\"-498.8\" font-family=\"Helvetica,sans-Serif\" font-size=\"14.00\">samples = 559</text>\n",
       "<text text-anchor=\"start\" x=\"482\" y=\"-483.8\" font-family=\"Helvetica,sans-Serif\" font-size=\"14.00\">values = [t=356, ð=100, tʃ=41, θ=38, &#45;=15]</text>\n",
       "<text text-anchor=\"start\" x=\"545.5\" y=\"-468.8\" font-family=\"Helvetica,sans-Serif\" font-size=\"14.00\">segment_Spanish = t</text>\n",
       "</g>\n",
       "<!-- 0&#45;&gt;1 -->\n",
       "<g id=\"edge1\" class=\"edge\"><title>0&#45;&gt;1</title>\n",
       "<path fill=\"none\" stroke=\"black\" d=\"M699.469,-579.907C688.417,-570.469 676.56,-560.343 665.209,-550.649\"/>\n",
       "<polygon fill=\"black\" stroke=\"black\" points=\"667.325,-547.854 657.447,-544.021 662.779,-553.177 667.325,-547.854\"/>\n",
       "<text text-anchor=\"middle\" x=\"659.41\" y=\"-565.244\" font-family=\"Helvetica,sans-Serif\" font-size=\"14.00\">False</text>\n",
       "</g>\n",
       "<!-- 10 -->\n",
       "<g id=\"node11\" class=\"node\"><title>10</title>\n",
       "<path fill=\"#c56cec\" stroke=\"black\" d=\"M993.5,-536.5C993.5,-536.5 776.5,-536.5 776.5,-536.5 770.5,-536.5 764.5,-530.5 764.5,-524.5 764.5,-524.5 764.5,-480.5 764.5,-480.5 764.5,-474.5 770.5,-468.5 776.5,-468.5 776.5,-468.5 993.5,-468.5 993.5,-468.5 999.5,-468.5 1005.5,-474.5 1005.5,-480.5 1005.5,-480.5 1005.5,-524.5 1005.5,-524.5 1005.5,-530.5 999.5,-536.5 993.5,-536.5\"/>\n",
       "<text text-anchor=\"start\" x=\"849.5\" y=\"-521.3\" font-family=\"Helvetica,sans-Serif\" font-size=\"14.00\">gini = 0.381</text>\n",
       "<text text-anchor=\"start\" x=\"840\" y=\"-506.3\" font-family=\"Helvetica,sans-Serif\" font-size=\"14.00\">samples = 142</text>\n",
       "<text text-anchor=\"start\" x=\"772.5\" y=\"-491.3\" font-family=\"Helvetica,sans-Serif\" font-size=\"14.00\">values = [ð=110, t=17, θ=8, &#45;=5, z=2]</text>\n",
       "<text text-anchor=\"start\" x=\"818.5\" y=\"-476.3\" font-family=\"Helvetica,sans-Serif\" font-size=\"14.00\">segment_Spanish = ð</text>\n",
       "</g>\n",
       "<!-- 0&#45;&gt;10 -->\n",
       "<g id=\"edge10\" class=\"edge\"><title>0&#45;&gt;10</title>\n",
       "<path fill=\"none\" stroke=\"black\" d=\"M794.878,-579.907C808.805,-568.101 824.001,-555.217 837.88,-543.45\"/>\n",
       "<polygon fill=\"black\" stroke=\"black\" points=\"840.516,-545.803 845.88,-536.667 835.989,-540.464 840.516,-545.803\"/>\n",
       "<text text-anchor=\"middle\" x=\"843.828\" y=\"-557.883\" font-family=\"Helvetica,sans-Serif\" font-size=\"14.00\">True</text>\n",
       "</g>\n",
       "<!-- 2 -->\n",
       "<g id=\"node3\" class=\"node\"><title>2</title>\n",
       "<path fill=\"#8bf097\" stroke=\"black\" d=\"M611,-425C611,-425 371,-425 371,-425 365,-425 359,-419 359,-413 359,-413 359,-354 359,-354 359,-348 365,-342 371,-342 371,-342 611,-342 611,-342 617,-342 623,-348 623,-354 623,-354 623,-413 623,-413 623,-419 617,-425 611,-425\"/>\n",
       "<text text-anchor=\"start\" x=\"440\" y=\"-409.8\" font-family=\"Helvetica,sans-Serif\" font-size=\"14.00\">sca_Latin_L1 is I</text>\n",
       "<text text-anchor=\"start\" x=\"455.5\" y=\"-394.8\" font-family=\"Helvetica,sans-Serif\" font-size=\"14.00\">gini = 0.504</text>\n",
       "<text text-anchor=\"start\" x=\"446\" y=\"-379.8\" font-family=\"Helvetica,sans-Serif\" font-size=\"14.00\">samples = 497</text>\n",
       "<text text-anchor=\"start\" x=\"367\" y=\"-364.8\" font-family=\"Helvetica,sans-Serif\" font-size=\"14.00\">values = [t=333, ð=100, θ=36, &#45;=15, d=9]</text>\n",
       "<text text-anchor=\"start\" x=\"426.5\" y=\"-349.8\" font-family=\"Helvetica,sans-Serif\" font-size=\"14.00\">segment_Spanish = t</text>\n",
       "</g>\n",
       "<!-- 1&#45;&gt;2 -->\n",
       "<g id=\"edge2\" class=\"edge\"><title>1&#45;&gt;2</title>\n",
       "<path fill=\"none\" stroke=\"black\" d=\"M568.714,-460.907C559.299,-451.651 549.211,-441.732 539.524,-432.209\"/>\n",
       "<polygon fill=\"black\" stroke=\"black\" points=\"541.798,-429.536 532.213,-425.021 536.89,-434.527 541.798,-429.536\"/>\n",
       "</g>\n",
       "<!-- 9 -->\n",
       "<g id=\"node10\" class=\"node\"><title>9</title>\n",
       "<path fill=\"#b8f6f5\" stroke=\"black\" d=\"M805,-417.5C805,-417.5 653,-417.5 653,-417.5 647,-417.5 641,-411.5 641,-405.5 641,-405.5 641,-361.5 641,-361.5 641,-355.5 647,-349.5 653,-349.5 653,-349.5 805,-349.5 805,-349.5 811,-349.5 817,-355.5 817,-361.5 817,-361.5 817,-405.5 817,-405.5 817,-411.5 811,-417.5 805,-417.5\"/>\n",
       "<text text-anchor=\"start\" x=\"693.5\" y=\"-402.3\" font-family=\"Helvetica,sans-Serif\" font-size=\"14.00\">gini = 0.505</text>\n",
       "<text text-anchor=\"start\" x=\"688\" y=\"-387.3\" font-family=\"Helvetica,sans-Serif\" font-size=\"14.00\">samples = 62</text>\n",
       "<text text-anchor=\"start\" x=\"649\" y=\"-372.3\" font-family=\"Helvetica,sans-Serif\" font-size=\"14.00\">values = [tʃ=37, t=23, θ=2]</text>\n",
       "<text text-anchor=\"start\" x=\"662.5\" y=\"-357.3\" font-family=\"Helvetica,sans-Serif\" font-size=\"14.00\">segment_Spanish = tʃ</text>\n",
       "</g>\n",
       "<!-- 1&#45;&gt;9 -->\n",
       "<g id=\"edge9\" class=\"edge\"><title>1&#45;&gt;9</title>\n",
       "<path fill=\"none\" stroke=\"black\" d=\"M651.286,-460.907C663.183,-449.211 676.155,-436.457 688.032,-424.78\"/>\n",
       "<polygon fill=\"black\" stroke=\"black\" points=\"690.589,-427.174 695.266,-417.667 685.682,-422.182 690.589,-427.174\"/>\n",
       "</g>\n",
       "<!-- 3 -->\n",
       "<g id=\"node4\" class=\"node\"><title>3</title>\n",
       "<path fill=\"#73ed81\" stroke=\"black\" d=\"M473.5,-306C473.5,-306 240.5,-306 240.5,-306 234.5,-306 228.5,-300 228.5,-294 228.5,-294 228.5,-235 228.5,-235 228.5,-229 234.5,-223 240.5,-223 240.5,-223 473.5,-223 473.5,-223 479.5,-223 485.5,-229 485.5,-235 485.5,-235 485.5,-294 485.5,-294 485.5,-300 479.5,-306 473.5,-306\"/>\n",
       "<text text-anchor=\"start\" x=\"303\" y=\"-290.8\" font-family=\"Helvetica,sans-Serif\" font-size=\"14.00\">sca_Latin_L1 is U</text>\n",
       "<text text-anchor=\"start\" x=\"321.5\" y=\"-275.8\" font-family=\"Helvetica,sans-Serif\" font-size=\"14.00\">gini = 0.403</text>\n",
       "<text text-anchor=\"start\" x=\"312\" y=\"-260.8\" font-family=\"Helvetica,sans-Serif\" font-size=\"14.00\">samples = 426</text>\n",
       "<text text-anchor=\"start\" x=\"236.5\" y=\"-245.8\" font-family=\"Helvetica,sans-Serif\" font-size=\"14.00\">values = [t=321, ð=69, θ=20, &#45;=10, tʃ=4]</text>\n",
       "<text text-anchor=\"start\" x=\"292.5\" y=\"-230.8\" font-family=\"Helvetica,sans-Serif\" font-size=\"14.00\">segment_Spanish = t</text>\n",
       "</g>\n",
       "<!-- 2&#45;&gt;3 -->\n",
       "<g id=\"edge3\" class=\"edge\"><title>2&#45;&gt;3</title>\n",
       "<path fill=\"none\" stroke=\"black\" d=\"M444.509,-341.907C433.7,-332.469 422.102,-322.343 411,-312.649\"/>\n",
       "<polygon fill=\"black\" stroke=\"black\" points=\"413.243,-309.961 403.408,-306.021 408.639,-315.234 413.243,-309.961\"/>\n",
       "</g>\n",
       "<!-- 8 -->\n",
       "<g id=\"node9\" class=\"node\"><title>8</title>\n",
       "<path fill=\"#eac9f8\" stroke=\"black\" d=\"M734,-298.5C734,-298.5 516,-298.5 516,-298.5 510,-298.5 504,-292.5 504,-286.5 504,-286.5 504,-242.5 504,-242.5 504,-236.5 510,-230.5 516,-230.5 516,-230.5 734,-230.5 734,-230.5 740,-230.5 746,-236.5 746,-242.5 746,-242.5 746,-286.5 746,-286.5 746,-292.5 740,-298.5 734,-298.5\"/>\n",
       "<text text-anchor=\"start\" x=\"589.5\" y=\"-283.3\" font-family=\"Helvetica,sans-Serif\" font-size=\"14.00\">gini = 0.715</text>\n",
       "<text text-anchor=\"start\" x=\"584\" y=\"-268.3\" font-family=\"Helvetica,sans-Serif\" font-size=\"14.00\">samples = 71</text>\n",
       "<text text-anchor=\"start\" x=\"512\" y=\"-253.3\" font-family=\"Helvetica,sans-Serif\" font-size=\"14.00\">values = [ð=31, θ=16, t=12, d=7, &#45;=5]</text>\n",
       "<text text-anchor=\"start\" x=\"558.5\" y=\"-238.3\" font-family=\"Helvetica,sans-Serif\" font-size=\"14.00\">segment_Spanish = ð</text>\n",
       "</g>\n",
       "<!-- 2&#45;&gt;8 -->\n",
       "<g id=\"edge8\" class=\"edge\"><title>2&#45;&gt;8</title>\n",
       "<path fill=\"none\" stroke=\"black\" d=\"M537.491,-341.907C551.013,-330.101 565.769,-317.217 579.246,-305.45\"/>\n",
       "<polygon fill=\"black\" stroke=\"black\" points=\"581.783,-307.881 587.014,-298.667 577.179,-302.608 581.783,-307.881\"/>\n",
       "</g>\n",
       "<!-- 4 -->\n",
       "<g id=\"node5\" class=\"node\"><title>4</title>\n",
       "<path fill=\"#6eec7c\" stroke=\"black\" d=\"M363.5,-187C363.5,-187 130.5,-187 130.5,-187 124.5,-187 118.5,-181 118.5,-175 118.5,-175 118.5,-116 118.5,-116 118.5,-110 124.5,-104 130.5,-104 130.5,-104 363.5,-104 363.5,-104 369.5,-104 375.5,-110 375.5,-116 375.5,-116 375.5,-175 375.5,-175 375.5,-181 369.5,-187 363.5,-187\"/>\n",
       "<text text-anchor=\"start\" x=\"193.5\" y=\"-171.8\" font-family=\"Helvetica,sans-Serif\" font-size=\"14.00\">sca_Latin_L1 is Y</text>\n",
       "<text text-anchor=\"start\" x=\"211.5\" y=\"-156.8\" font-family=\"Helvetica,sans-Serif\" font-size=\"14.00\">gini = 0.381</text>\n",
       "<text text-anchor=\"start\" x=\"202\" y=\"-141.8\" font-family=\"Helvetica,sans-Serif\" font-size=\"14.00\">samples = 416</text>\n",
       "<text text-anchor=\"start\" x=\"126.5\" y=\"-126.8\" font-family=\"Helvetica,sans-Serif\" font-size=\"14.00\">values = [t=321, ð=59, θ=20, &#45;=10, tʃ=4]</text>\n",
       "<text text-anchor=\"start\" x=\"182.5\" y=\"-111.8\" font-family=\"Helvetica,sans-Serif\" font-size=\"14.00\">segment_Spanish = t</text>\n",
       "</g>\n",
       "<!-- 3&#45;&gt;4 -->\n",
       "<g id=\"edge4\" class=\"edge\"><title>3&#45;&gt;4</title>\n",
       "<path fill=\"none\" stroke=\"black\" d=\"M318.836,-222.907C310.219,-213.742 300.991,-203.927 292.118,-194.489\"/>\n",
       "<polygon fill=\"black\" stroke=\"black\" points=\"294.496,-191.909 285.096,-187.021 289.396,-196.704 294.496,-191.909\"/>\n",
       "</g>\n",
       "<!-- 7 -->\n",
       "<g id=\"node8\" class=\"node\"><title>7</title>\n",
       "<path fill=\"#b139e5\" stroke=\"black\" d=\"M530.5,-179.5C530.5,-179.5 405.5,-179.5 405.5,-179.5 399.5,-179.5 393.5,-173.5 393.5,-167.5 393.5,-167.5 393.5,-123.5 393.5,-123.5 393.5,-117.5 399.5,-111.5 405.5,-111.5 405.5,-111.5 530.5,-111.5 530.5,-111.5 536.5,-111.5 542.5,-117.5 542.5,-123.5 542.5,-123.5 542.5,-167.5 542.5,-167.5 542.5,-173.5 536.5,-179.5 530.5,-179.5\"/>\n",
       "<text text-anchor=\"start\" x=\"440\" y=\"-164.3\" font-family=\"Helvetica,sans-Serif\" font-size=\"14.00\">gini = 0.0</text>\n",
       "<text text-anchor=\"start\" x=\"427\" y=\"-149.3\" font-family=\"Helvetica,sans-Serif\" font-size=\"14.00\">samples = 10</text>\n",
       "<text text-anchor=\"start\" x=\"421\" y=\"-134.3\" font-family=\"Helvetica,sans-Serif\" font-size=\"14.00\">values = [ð=10]</text>\n",
       "<text text-anchor=\"start\" x=\"401.5\" y=\"-119.3\" font-family=\"Helvetica,sans-Serif\" font-size=\"14.00\">segment_Spanish = ð</text>\n",
       "</g>\n",
       "<!-- 3&#45;&gt;7 -->\n",
       "<g id=\"edge7\" class=\"edge\"><title>3&#45;&gt;7</title>\n",
       "<path fill=\"none\" stroke=\"black\" d=\"M395.511,-222.907C406.503,-211.321 418.479,-198.698 429.472,-187.111\"/>\n",
       "<polygon fill=\"black\" stroke=\"black\" points=\"432.19,-189.331 436.534,-179.667 427.112,-184.513 432.19,-189.331\"/>\n",
       "</g>\n",
       "<!-- 5 -->\n",
       "<g id=\"node6\" class=\"node\"><title>5</title>\n",
       "<path fill=\"#61ea71\" stroke=\"black\" d=\"M238,-68C238,-68 12,-68 12,-68 6,-68 1.42109e-14,-62 1.42109e-14,-56 1.42109e-14,-56 1.42109e-14,-12 1.42109e-14,-12 1.42109e-14,-6 6,-0 12,-0 12,-0 238,-0 238,-0 244,-0 250,-6 250,-12 250,-12 250,-56 250,-56 250,-62 244,-68 238,-68\"/>\n",
       "<text text-anchor=\"start\" x=\"89.5\" y=\"-52.8\" font-family=\"Helvetica,sans-Serif\" font-size=\"14.00\">gini = 0.322</text>\n",
       "<text text-anchor=\"start\" x=\"80\" y=\"-37.8\" font-family=\"Helvetica,sans-Serif\" font-size=\"14.00\">samples = 353</text>\n",
       "<text text-anchor=\"start\" x=\"8\" y=\"-22.8\" font-family=\"Helvetica,sans-Serif\" font-size=\"14.00\">values = [t=288, ð=34, θ=16, &#45;=9, tʃ=4]</text>\n",
       "<text text-anchor=\"start\" x=\"60.5\" y=\"-7.8\" font-family=\"Helvetica,sans-Serif\" font-size=\"14.00\">segment_Spanish = t</text>\n",
       "</g>\n",
       "<!-- 4&#45;&gt;5 -->\n",
       "<g id=\"edge5\" class=\"edge\"><title>4&#45;&gt;5</title>\n",
       "<path fill=\"none\" stroke=\"black\" d=\"M201.572,-103.726C191.105,-94.3318 179.982,-84.349 169.553,-74.9883\"/>\n",
       "<polygon fill=\"black\" stroke=\"black\" points=\"171.881,-72.3744 162.101,-68.2996 167.205,-77.5839 171.881,-72.3744\"/>\n",
       "</g>\n",
       "<!-- 6 -->\n",
       "<g id=\"node7\" class=\"node\"><title>6</title>\n",
       "<path fill=\"#d5fada\" stroke=\"black\" d=\"M458.5,-68C458.5,-68 279.5,-68 279.5,-68 273.5,-68 267.5,-62 267.5,-56 267.5,-56 267.5,-12 267.5,-12 267.5,-6 273.5,-0 279.5,-0 279.5,-0 458.5,-0 458.5,-0 464.5,-0 470.5,-6 470.5,-12 470.5,-12 470.5,-56 470.5,-56 470.5,-62 464.5,-68 458.5,-68\"/>\n",
       "<text text-anchor=\"start\" x=\"333.5\" y=\"-52.8\" font-family=\"Helvetica,sans-Serif\" font-size=\"14.00\">gini = 0.564</text>\n",
       "<text text-anchor=\"start\" x=\"328\" y=\"-37.8\" font-family=\"Helvetica,sans-Serif\" font-size=\"14.00\">samples = 63</text>\n",
       "<text text-anchor=\"start\" x=\"275.5\" y=\"-22.8\" font-family=\"Helvetica,sans-Serif\" font-size=\"14.00\">values = [t=33, ð=25, θ=4, &#45;=1]</text>\n",
       "<text text-anchor=\"start\" x=\"304.5\" y=\"-7.8\" font-family=\"Helvetica,sans-Serif\" font-size=\"14.00\">segment_Spanish = t</text>\n",
       "</g>\n",
       "<!-- 4&#45;&gt;6 -->\n",
       "<g id=\"edge6\" class=\"edge\"><title>4&#45;&gt;6</title>\n",
       "<path fill=\"none\" stroke=\"black\" d=\"M292.428,-103.726C302.895,-94.3318 314.018,-84.349 324.447,-74.9883\"/>\n",
       "<polygon fill=\"black\" stroke=\"black\" points=\"326.795,-77.5839 331.899,-68.2996 322.119,-72.3744 326.795,-77.5839\"/>\n",
       "</g>\n",
       "</g>\n",
       "</svg>\n"
      ],
      "text/plain": [
       "<graphviz.files.Source at 0x7f0bd2f64ed0>"
      ]
     },
     "metadata": {},
     "output_type": "display_data"
    }
   ],
   "source": [
    "clf5 = multitiers.Classifier(data_spanish, models=['sca'], left=1, right=1)\n",
    "study = \"\"\"\n",
    "X_tier segment_Latin INCLUDE t\n",
    "X_tier sca_Latin_L1\n",
    "Y_tier sca_Latin_R1\n",
    "y_tier segment_Spanish\n",
    "\"\"\"\n",
    "X_tiers5, y_tiers5 = multitiers.utils.parse_study(study)\n",
    "clf5.train(X_tiers5, y_tiers5)\n",
    "display(graphviz.Source(clf5.to_dot()))"
   ]
  },
  {
   "cell_type": "code",
   "execution_count": 22,
   "metadata": {},
   "outputs": [
    {
     "data": {
      "text/plain": [
       "[('sca_Latin_L1_A', 0.3296542422158415),\n",
       " ('sca_Latin_L1_K', 0.1379649920635418),\n",
       " ('sca_Latin_L1_S', 0.12830058995556023),\n",
       " ('sca_Latin_L1_I', 0.09016712760575624),\n",
       " ('sca_Latin_L1_N', 0.08446482228946994)]"
      ]
     },
     "execution_count": 22,
     "metadata": {},
     "output_type": "execute_result"
    }
   ],
   "source": [
    "clf5.feature_extraction(\"tree\", num_feats=5)"
   ]
  },
  {
   "cell_type": "code",
   "execution_count": 23,
   "metadata": {},
   "outputs": [
    {
     "data": {
      "text/plain": [
       "[('sca_Latin_L1_A', True),\n",
       " ('sca_Latin_L1_K', True),\n",
       " ('sca_Latin_L1_N', True),\n",
       " ('sca_Latin_L1_S', True)]"
      ]
     },
     "execution_count": 23,
     "metadata": {},
     "output_type": "execute_result"
    }
   ],
   "source": [
    "clf5.feature_extraction(\"lsvc\")"
   ]
  }
 ],
 "metadata": {
  "kernelspec": {
   "display_name": "Python 3",
   "language": "python",
   "name": "python3"
  },
  "language_info": {
   "codemirror_mode": {
    "name": "ipython",
    "version": 3
   },
   "file_extension": ".py",
   "mimetype": "text/x-python",
   "name": "python",
   "nbconvert_exporter": "python",
   "pygments_lexer": "ipython3",
   "version": "3.7.7"
  }
 },
 "nbformat": 4,
 "nbformat_minor": 4
}
